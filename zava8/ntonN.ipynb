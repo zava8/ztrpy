{
 "cells": [
  {
   "cell_type": "markdown",
   "metadata": {},
   "source": [
    "## [google sheet nN](https://docs.google.com/spreadsheets/d/1Qvn5DiY1PiHmXAJ8lm4iwMHMNxzWgbK5Thb6jdhL2Zw/edit?usp=sharing)"
   ]
  },
  {
   "cell_type": "code",
   "execution_count": 1,
   "metadata": {},
   "outputs": [],
   "source": [
    "import re"
   ]
  },
  {
   "cell_type": "code",
   "execution_count": 18,
   "metadata": {},
   "outputs": [],
   "source": [
    "def n2nNu(i):\n",
    "    i = re.sub(r'N', 'n', i)\n",
    "    i = re.sub(r'n([cgk])\\b', r'ṅ\\1', i) # , flags=re.I)\n",
    "    i = re.sub(r'\\bn', 'ñ', i) # , flags=re.I)\n",
    "    i = re.sub(r'([a-z])nk', r'\\1ṅk', i) # , flags=re.I)\n",
    "    i = re.sub(r'oung', 'ouṅg', i) # , flags=re.I)\n",
    "    i = re.sub(r'ginge', 'giñge', i) # , flags=re.I)\n",
    "    i = re.sub(r'([ht])inge', r'\\1iñge', i) # , flags=re.I)\n",
    "    i = re.sub(r'([fyc])ring', r'\\1riñg', i) # , flags=re.I) \n",
    "    i = re.sub(r'engin', 'eñgin', i) # , flags=re.I)\n",
    "    i = re.sub(r'ngth', 'ñgth', i) # , flags=re.I)\n",
    "    i = re.sub(r'ange([^dr])', r'añge\\1', i) # , flags=re.I)\n",
    "    i = re.sub(r'\\bt([ai])ng([ei])', r't\\1ñg\\2', i) # , flags=re.I)\n",
    "    i = re.sub(r'\\bangi', 'añgi', i) # , flags=re.I)\n",
    "    i = re.sub(r'inge', 'iñge', i) # , flags=re.I)\n",
    "    i = re.sub(r'ing', 'iṅg', i) # , flags=re.I)\n",
    "    i = re.sub(r'nge\\b', 'ñge', i) # , flags=re.I)\n",
    "    i = re.sub(r'ngel', 'ñgel', i) # , flags=re.I)\n",
    "    i = re.sub(r'([dr])ang([ei])', r'\\1añg\\2', i) # , flags=re.I)\n",
    "    i = re.sub(r'([lv])eng', r'\\1eñg', i) # , flags=re.I)\n",
    "    i = re.sub(r'chang([ei])', r'chañg\\1', i) # , flags=re.I)\n",
    "    i = re.sub(r'sseng', 'sseñg', i) # , flags=re.I)\n",
    "    i = re.sub(r'nger', 'ṅger', i) # , flags=re.I)\n",
    "    i = re.sub(r'([a-z])ng', r'\\1ṅg', i) # , flags=re.I)\n",
    "    i = re.sub(r'sync', 'syṅc', i) # , flags=re.I)\n",
    "    i = re.sub(r'anchor', 'aṅchor', i) # , flags=re.I)\n",
    "    i = re.sub(r'linco', 'liṅco', i) # , flags=re.I)\n",
    "    i = re.sub(r'sincl', 'siṅcl', i) # , flags=re.I)\n",
    "    i = re.sub(r'\\buncle(s?)\\b', r'uṅcle\\1', i) # , flags=re.I)\n",
    "    i = re.sub(r'menco', 'meṅco', i) # , flags=re.I)\n",
    "    i = re.sub(r'([iu])nct', r'\\1ṅct', i) # , flags=re.I)\n",
    "    i = re.sub(r'nc([hyei])', r'ñc\\1', i) # , flags=re.I)\n",
    "    i = re.sub(r'inc([^hueioay])', r'iṅc\\1', i) # , flags=re.I)\n",
    "    i = re.sub(r'inc([aeiou])', r'iñc\\1', i) # , flags=re.I)\n",
    "    i = re.sub(r'([a-z])unc([^hyei])', r'\\1uṅc\\2', i) # , flags=re.I)\n",
    "    i = re.sub(r'enc([^eiyh])', r'eñc\\1', i) # , flags=re.I)\n",
    "    i = re.sub(r'([ao])nc([^hyei])', r'\\1ṅc\\2', i) # , flags=re.I)\n",
    "    i = re.sub(r'ñ', 'n', i)\n",
    "    # i = re.sub(r'ṅ', 'N', i)\n",
    "    return i"
   ]
  },
  {
   "cell_type": "code",
   "execution_count": 16,
   "metadata": {},
   "outputs": [],
   "source": [
    "def test_n2nNu():\n",
    "    t1=\"lync sync nest\"\n",
    "    t2=n2nNu(t1)\n",
    "    print(f\"t1 is {t1}\\nt2 is {t2}\")\n"
   ]
  },
  {
   "cell_type": "code",
   "execution_count": 19,
   "metadata": {},
   "outputs": [
    {
     "name": "stdout",
     "output_type": "stream",
     "text": [
      "t1 is lync sync nest\n",
      "t2 is lyṅc syṅc nest\n"
     ]
    }
   ],
   "source": [
    "test_n2nNu()"
   ]
  },
  {
   "cell_type": "code",
   "execution_count": null,
   "metadata": {},
   "outputs": [],
   "source": []
  }
 ],
 "metadata": {
  "kernelspec": {
   "display_name": "Python 3",
   "language": "python",
   "name": "python3"
  },
  "language_info": {
   "codemirror_mode": {
    "name": "ipython",
    "version": 3
   },
   "file_extension": ".py",
   "mimetype": "text/x-python",
   "name": "python",
   "nbconvert_exporter": "python",
   "pygments_lexer": "ipython3",
   "version": "3.10.12"
  }
 },
 "nbformat": 4,
 "nbformat_minor": 2
}
