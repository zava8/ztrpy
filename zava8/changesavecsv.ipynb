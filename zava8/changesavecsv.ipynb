{
 "cells": [
  {
   "cell_type": "markdown",
   "metadata": {},
   "source": [
    "\n",
    "## datαstore columns : eng ish iph whinish whiniph whin hin\n",
    "#### ααz kam krтe vkт sikha\n",
    "1. ek zupyter notebook bnao aor kholo\n",
    "2. code cells ko run krne ke liye remote zupyter server se knkt kro\n",
    "3. zupyter notebook ko python file  ke rup me export kro\n"
   ]
  },
  {
   "cell_type": "code",
   "execution_count": null,
   "metadata": {},
   "outputs": [],
   "source": []
  }
 ],
 "metadata": {
  "kernelspec": {
   "display_name": ".venv",
   "language": "python",
   "name": "python3"
  },
  "language_info": {
   "name": "python",
   "version": "3.10.12"
  }
 },
 "nbformat": 4,
 "nbformat_minor": 2
}
