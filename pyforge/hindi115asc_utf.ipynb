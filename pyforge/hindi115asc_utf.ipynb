{
 "cells": [
  {
   "cell_type": "code",
   "execution_count": 1,
   "metadata": {},
   "outputs": [],
   "source": [
    "import fontforge\n",
    "import os\n",
    "import shutil\n",
    "# import importlib\n",
    "from iud import iud\n",
    "scripts = (\n",
    "    \"ing\",\n",
    "    \"hindi\",\n",
    "    \"bangla\",\"guzrati\",\"gurmukhi\",\"oriya\",\n",
    "    \"korean\",\n",
    "    \"telugu\",\"tamil\",\"kannada\",\"malayalam\",\"sinhala\"\n",
    "    # ,\"eng\",\"binaryv\",\"binaryh\",\"hex\",\n",
    "    # \"notosans\"\n",
    ")\n",
    "# ff_dict={}\n",
    "qvjtx2aDHTt = {\"A\":\"q\",\"H\":\"j\",\"T\":\"t\",\"D\":\"v\",\"t\":\"x\"}\n"
   ]
  },
  {
   "cell_type": "code",
   "execution_count": null,
   "metadata": {},
   "outputs": [],
   "source": [
    "asc128 = set(range(0x20,0xA0))\n",
    "for x in asc128:\n",
    "    print(hex(x),end=\", \")\n",
    "print()\n",
    "for x in asc128:\n",
    "    print((chr(x)),end=\", \")\n",
    "print()\n",
    "indicable = {(char) for char in 'bdfklmnprstvyz'}\n",
    "print(indicable)\n",
    "indicable = {ord(char) for char in 'bdfklmnprstvyz'}\n",
    "print(indicable)\n",
    "nonindicable128 = asc128 - indicable\n",
    "for x in nonindicable128:\n",
    "    print(hex(x),end=\", \")\n",
    "print()\n",
    "for x in nonindicable128:\n",
    "    print((chr(x)),end=\", \")"
   ]
  },
  {
   "cell_type": "code",
   "execution_count": null,
   "metadata": {},
   "outputs": [],
   "source": [
    "scripts = (\n",
    "    # \"ing\",\n",
    "    \"hindi\",\n",
    "    # \"bangla\",\"guzrati\",\"gurmukhi\",\"oriya\",\n",
    "    # \"korean\",\n",
    "    # \"telugu\",\"tamil\",\"kannada\",\"malayalam\",\"sinhala\"\n",
    "    # ,\"eng\",\"binaryv\",\"binaryh\",\"hex\",\n",
    "    # \"notosans\"\n",
    ")\n",
    "ing115usm = fontforge.open(f\"/home/viml/mg/font/sfd/5/unisymvoice/ing115.sfd\")\n",
    "for x in scripts:\n",
    "    x115 = fontforge.open(f\"/home/viml/mg/font/sfd/5/115/{x}115.sfd\")\n",
    "    for x in nonindicable128:\n",
    "        ing115usm.selection.select(x)\n",
    "        ing115usm.copy()\n",
    "        x115.selection.select(x)\n",
    "        x115.paste()\n",
    "    x115.save()\n",
    "    x115.close()\n",
    "ing115usm.close()"
   ]
  }
 ],
 "metadata": {
  "kernelspec": {
   "display_name": "Python 3",
   "language": "python",
   "name": "python3"
  },
  "language_info": {
   "codemirror_mode": {
    "name": "ipython",
    "version": 3
   },
   "file_extension": ".py",
   "mimetype": "text/x-python",
   "name": "python",
   "nbconvert_exporter": "python",
   "pygments_lexer": "ipython3",
   "version": "3.10.12"
  }
 },
 "nbformat": 4,
 "nbformat_minor": 2
}
