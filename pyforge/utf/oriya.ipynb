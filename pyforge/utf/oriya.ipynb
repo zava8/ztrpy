{
 "cells": [
  {
   "cell_type": "markdown",
   "metadata": {},
   "source": [
    "[oriya_keyboard](https://www.lexilogos.com/keyboard/oriya.htm)"
   ]
  },
  {
   "cell_type": "code",
   "execution_count": 1,
   "metadata": {},
   "outputs": [
    {
     "name": "stdout",
     "output_type": "stream",
     "text": [
      "{2817: 2305, 2818: 2306, 2822: 2310, 2823: 2311, 2824: 2311, 2825: 2313, 2826: 2313, 2831: 2319, 2832: 2319, 2835: 2323, 2836: 2323, 2840: 2328, 2853: 2341, 2855: 2343, 2876: 2381, 2877: 2381, 2893: 2381}\n",
      "{2819: 'a', 2821: 'a', 2839: 'g', 2841: 'N', 2842: 'c', 2843: 'C', 2852: 'T', 2854: 'D', 2867: 'L', 2873: 'H', 2878: 'A', 2879: 'i', 2880: 'i', 2881: 'u', 2882: 'u', 2884: 'R', 2902: 'e', 2903: 'u', 2912: 'R', 2913: 'L', 2915: 'L', 2916: '.', 2917: '.', 2918: '0', 2919: '1', 2920: '2', 2921: '3', 2922: '4', 2923: '5', 2924: '6', 2925: '7', 2926: '8', 2927: '9', 2928: 'O', 2929: 'o'}\n",
      "{2827: 'r', 2828: 'l', 2837: 'k', 2844: 'z', 2846: 'n', 2847: 't', 2849: 'd', 2851: 'n', 2856: 'n', 2858: 'p', 2859: 'f', 2860: 'b', 2862: 'm', 2863: 'y', 2864: 'r', 2866: 'l', 2869: 'v', 2871: 's', 2872: 's', 2883: 'r', 2908: 'd', 2909: 'd', 2911: 'y', 2914: 'l'}\n"
     ]
    }
   ],
   "source": [
    "import fontforge\n",
    "import oriya_dict\n",
    "print(oriya_dict.oriya_niyu)\n",
    "print(oriya_dict.oriya_ascii_dict)\n",
    "print(oriya_dict.oriya_uscii_dict)"
   ]
  },
  {
   "cell_type": "code",
   "execution_count": 2,
   "metadata": {},
   "outputs": [],
   "source": [
    "scripts = (\n",
    "    \"ing\",\n",
    "    \"hindi\",\n",
    "    \"bangla\",\"guzrati\",\"gurmukhi\",\"oriya\",\n",
    "    \"korean\",\n",
    "    \"telugu\",\"tamil\",\"kannada\",\"malayalam\",\"sinhala\"\n",
    "    # ,\"eng\",\"binaryv\",\"binaryh\",\"hex\",\n",
    "    # \"notosans\"\n",
    ")\n",
    "for x in scripts:\n",
    "    x115 = fontforge.open(f\"/home/viml/mg/font/sfdsource/source115/{x}115.sfd\")\n",
    "    for k,v in oriya_dict.oriya_niyu.items():\n",
    "        x115.selection.select(v)\n",
    "        x115.copyReference()\n",
    "        x115.selection.select(k)\n",
    "        x115.clear()\n",
    "        x115.paste()\n",
    "    x115.save()\n",
    "    x115.close()"
   ]
  },
  {
   "cell_type": "code",
   "execution_count": 3,
   "metadata": {},
   "outputs": [],
   "source": [
    "for x in scripts:\n",
    "    x115 = fontforge.open(f\"/home/viml/mg/font/sfdsource/source115/{x}115.sfd\")\n",
    "    for k,v in oriya_dict.oriya_ascii_dict.items():\n",
    "        x115.selection.select(v)\n",
    "        x115.copyReference()\n",
    "        x115.selection.select(k)\n",
    "        x115.clear()\n",
    "        x115.paste()\n",
    "    for k,v in oriya_dict.oriya_uscii_dict.items():\n",
    "        x115.selection.select(v)\n",
    "        x115.copyReference()\n",
    "        x115.selection.select(k)\n",
    "        x115.clear()\n",
    "        x115.paste()\n",
    "    x115.save()\n",
    "    x115.close()"
   ]
  }
 ],
 "metadata": {
  "kernelspec": {
   "display_name": "Python 3",
   "language": "python",
   "name": "python3"
  },
  "language_info": {
   "codemirror_mode": {
    "name": "ipython",
    "version": 3
   },
   "file_extension": ".py",
   "mimetype": "text/x-python",
   "name": "python",
   "nbconvert_exporter": "python",
   "pygments_lexer": "ipython3",
   "version": "3.10.12"
  }
 },
 "nbformat": 4,
 "nbformat_minor": 2
}
