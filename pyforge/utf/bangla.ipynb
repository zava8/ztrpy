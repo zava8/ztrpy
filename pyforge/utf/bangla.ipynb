{
 "cells": [
  {
   "cell_type": "markdown",
   "metadata": {},
   "source": [
    "[malayAlam_keyboard](https://www.lexilogos.com/keyboard/malayalam.htm)"
   ]
  },
  {
   "cell_type": "code",
   "execution_count": 1,
   "metadata": {},
   "outputs": [
    {
     "name": "stdout",
     "output_type": "stream",
     "text": [
      "{2433: 2305, 2434: 2306, 2438: 2310, 2439: 2311, 2440: 2311, 2441: 2313, 2442: 2313, 2447: 2319, 2448: 2319, 2451: 2323, 2452: 2323, 2456: 2328, 2469: 2341, 2471: 2343, 2492: 2381, 2493: 2381, 2509: 2381, 2556: 2306, 2558: 2381}\n",
      "{2435: 'a', 2437: 'a', 2455: 'g', 2457: 'N', 2458: 'c', 2459: 'C', 2468: 'T', 2470: 'D', 2489: 'H', 2494: 'A', 2496: 'i', 2497: 'u', 2498: 'u', 2500: 'R', 2510: 'T', 2519: 'o', 2528: 'R', 2529: 'L', 2531: 'L', 2532: '.', 2533: '.', 2534: '0', 2535: '1', 2536: '2', 2537: '3', 2538: '4', 2539: '5', 2540: '6', 2541: '7', 2542: '8', 2543: '9', 2557: '-'}\n",
      "{2443: 'r', 2444: 'l', 2453: 'k', 2460: 'z', 2462: 'n', 2463: 't', 2465: 'd', 2467: 'n', 2472: 'n', 2474: 'p', 2475: 'f', 2476: 'b', 2478: 'm', 2479: 'y', 2480: 'r', 2482: 'l', 2487: 's', 2488: 's', 2499: 'r', 2524: 'd', 2525: 'r', 2527: 'y', 2530: 'l', 2544: 'r', 2545: 'v'}\n"
     ]
    }
   ],
   "source": [
    "import fontforge\n",
    "import bangla_dict\n",
    "print(bangla_dict.bangla_niyu)\n",
    "print(bangla_dict.bangla_ascii_dict)\n",
    "print(bangla_dict.bangla_uscii_dict)"
   ]
  },
  {
   "cell_type": "code",
   "execution_count": 2,
   "metadata": {},
   "outputs": [],
   "source": [
    "scripts = (\n",
    "    \"ing\",\n",
    "    \"hindi\",\n",
    "    \"bangla\",\"guzrati\",\"gurmukhi\",\"oriya\",\n",
    "    \"korean\",\n",
    "    \"telugu\",\"tamil\",\"kannada\",\"malayalam\",\"sinhala\"\n",
    "    # ,\"eng\",\"binaryv\",\"binaryh\",\"hex\",\n",
    "    # \"notosans\"\n",
    ")\n",
    "for x in scripts:\n",
    "    x115 = fontforge.open(f\"/home/viml/mg/font/sfdsource/source115/{x}115.sfd\")\n",
    "    for k,v in bangla_dict.bangla_niyu.items():\n",
    "        x115.selection.select(v)\n",
    "        x115.copyReference()\n",
    "        x115.selection.select(k)\n",
    "        x115.clear()\n",
    "        x115.paste()\n",
    "    x115.save()\n",
    "    x115.close()"
   ]
  },
  {
   "cell_type": "code",
   "execution_count": 3,
   "metadata": {},
   "outputs": [],
   "source": [
    "for x in scripts:\n",
    "    x115 = fontforge.open(f\"/home/viml/mg/font/sfdsource/source115/{x}115.sfd\")\n",
    "    for k,v in bangla_dict.bangla_ascii_dict.items():\n",
    "        x115.selection.select(v)\n",
    "        x115.copyReference()\n",
    "        x115.selection.select(k)\n",
    "        x115.clear()\n",
    "        x115.paste()\n",
    "    for k,v in bangla_dict.bangla_uscii_dict.items():\n",
    "        x115.selection.select(v)\n",
    "        x115.copyReference()\n",
    "        x115.selection.select(k)\n",
    "        x115.clear()\n",
    "        x115.paste()\n",
    "    x115.save()\n",
    "    x115.close()"
   ]
  }
 ],
 "metadata": {
  "kernelspec": {
   "display_name": "Python 3",
   "language": "python",
   "name": "python3"
  },
  "language_info": {
   "codemirror_mode": {
    "name": "ipython",
    "version": 3
   },
   "file_extension": ".py",
   "mimetype": "text/x-python",
   "name": "python",
   "nbconvert_exporter": "python",
   "pygments_lexer": "ipython3",
   "version": "3.10.12"
  }
 },
 "nbformat": 4,
 "nbformat_minor": 2
}
