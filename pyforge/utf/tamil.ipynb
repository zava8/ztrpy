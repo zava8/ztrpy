{
 "cells": [
  {
   "cell_type": "markdown",
   "metadata": {},
   "source": [
    "[tamil_keyboard](https://www.lexilogos.com/keyboard/tamil.htm)"
   ]
  },
  {
   "cell_type": "code",
   "execution_count": 1,
   "metadata": {},
   "outputs": [
    {
     "name": "stdout",
     "output_type": "stream",
     "text": [
      "{2946: 2306, 2950: 2310, 2951: 2311, 2952: 2311, 2953: 2313, 2954: 2313, 2958: 2319, 2959: 2319, 2960: 2319, 2962: 2323, 2963: 2323, 2964: 2323, 3021: 2381}\n",
      "{2947: ':', 2949: 'a', 2969: 'N', 2970: 'c', 2980: 'T', 2993: 'R', 2995: 'L', 2996: 'L', 3001: 'H', 3006: 'A', 3007: 'i', 3008: 'i', 3009: 'u', 3010: 'u', 3014: 'e', 3015: 'e', 3016: 'e', 3018: 'o', 3019: 'o', 3020: 'o', 3044: '.', 3045: '.', 3046: '0', 3047: '1', 3048: '2', 3049: '3', 3050: '4', 3051: '5', 3052: '6', 3053: '7', 3054: '8', 3055: '9'}\n",
      "{2965: 'k', 2972: 'z', 2974: 'n', 2975: 't', 2979: 'n', 2984: 'n', 2985: 'n', 2986: 'p', 2990: 'm', 2991: 'y', 2992: 'r', 2994: 'l', 2997: 'w', 2999: 's', 3000: 's'}\n"
     ]
    }
   ],
   "source": [
    "import fontforge\n",
    "import tamil_dict\n",
    "print(tamil_dict.tamil_niyu)\n",
    "print(tamil_dict.tamil_ascii_dict)\n",
    "print(tamil_dict.tamil_uscii_dict)"
   ]
  },
  {
   "cell_type": "code",
   "execution_count": 2,
   "metadata": {},
   "outputs": [],
   "source": [
    "scripts = (\n",
    "    \"ing\",\n",
    "    \"hindi\",\n",
    "    \"bangla\",\"guzrati\",\"gurmukhi\",\"oriya\",\n",
    "    \"korean\",\n",
    "    \"telugu\",\"tamil\",\"kannada\",\"malayalam\",\"sinhala\"\n",
    "    # ,\"eng\",\"binaryv\",\"binaryh\",\"hex\",\n",
    "    # \"notosans\"\n",
    ")\n",
    "for x in scripts:\n",
    "    x115 = fontforge.open(f\"/home/viml/mg/font/sfdsource/source115/{x}115.sfd\")\n",
    "    for k,v in tamil_dict.tamil_niyu.items():\n",
    "        x115.selection.select(v)\n",
    "        x115.copyReference()\n",
    "        x115.selection.select(k)\n",
    "        x115.clear()\n",
    "        x115.paste()\n",
    "    x115.save()\n",
    "    x115.close()"
   ]
  },
  {
   "cell_type": "code",
   "execution_count": 3,
   "metadata": {},
   "outputs": [],
   "source": [
    "for x in scripts:\n",
    "    x115 = fontforge.open(f\"/home/viml/mg/font/sfdsource/source115/{x}115.sfd\")\n",
    "    for k,v in tamil_dict.tamil_ascii_dict.items():\n",
    "        x115.selection.select(v)\n",
    "        x115.copyReference()\n",
    "        x115.selection.select(k)\n",
    "        x115.clear()\n",
    "        x115.paste()\n",
    "    for k,v in tamil_dict.tamil_uscii_dict.items():\n",
    "        x115.selection.select(v)\n",
    "        x115.copyReference()\n",
    "        x115.selection.select(k)\n",
    "        x115.clear()\n",
    "        x115.paste()\n",
    "    x115.save()\n",
    "    x115.close()"
   ]
  }
 ],
 "metadata": {
  "kernelspec": {
   "display_name": "Python 3",
   "language": "python",
   "name": "python3"
  },
  "language_info": {
   "codemirror_mode": {
    "name": "ipython",
    "version": 3
   },
   "file_extension": ".py",
   "mimetype": "text/x-python",
   "name": "python",
   "nbconvert_exporter": "python",
   "pygments_lexer": "ipython3",
   "version": "3.10.12"
  }
 },
 "nbformat": 4,
 "nbformat_minor": 2
}
