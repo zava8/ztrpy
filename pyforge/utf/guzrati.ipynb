{
 "cells": [
  {
   "cell_type": "markdown",
   "metadata": {},
   "source": [
    "[malayAlam_keyboard](https://www.lexilogos.com/keyboard/malayalam.htm)"
   ]
  },
  {
   "cell_type": "code",
   "execution_count": 1,
   "metadata": {},
   "outputs": [
    {
     "name": "stdout",
     "output_type": "stream",
     "text": [
      "{2689: 2305, 2690: 2306, 2694: 2310, 2695: 2311, 2696: 2311, 2697: 2313, 2698: 2313, 2701: 2319, 2703: 2319, 2704: 2319, 2705: 2323, 2707: 2323, 2708: 2323, 2712: 2328, 2725: 2341, 2727: 2343, 2748: 2381, 2749: 2381, 2765: 2381}\n",
      "{2691: 'a', 2693: 'a', 2711: 'g', 2713: 'N', 2714: 'c', 2715: 'C', 2719: 't', 2721: 'd', 2724: 'T', 2726: 'D', 2730: 'p', 2736: 'r', 2737: 'R', 2739: 'L', 2740: 'L', 2745: 'H', 2750: 'A', 2752: 'i', 2753: 'u', 2754: 'u', 2756: 'R', 2757: 'e', 2759: 'e', 2760: 'e', 2761: 'o', 2763: 'o', 2764: 'o', 2784: 'R', 2785: 'L', 2787: 'L', 2788: '.', 2789: '.', 2790: '0', 2791: '1', 2792: '2', 2793: '3', 2794: '4', 2795: '5', 2796: '6', 2797: '7', 2798: '8', 2799: '9', 2800: '-', 2801: 'R'}\n",
      "{2699: 'r', 2700: 'l', 2709: 'k', 2716: 'z', 2718: 'n', 2723: 'n', 2728: 'n', 2729: 'n', 2731: 'f', 2732: 'b', 2734: 'm', 2735: 'y', 2738: 'l', 2741: 'v', 2743: 's', 2744: 's', 2755: 'r', 2786: 'l'}\n"
     ]
    }
   ],
   "source": [
    "import fontforge\n",
    "import guzrati_dict\n",
    "print(guzrati_dict.guzrati_niyu)\n",
    "print(guzrati_dict.guzrati_ascii_dict)\n",
    "print(guzrati_dict.guzrati_uscii_dict)"
   ]
  },
  {
   "cell_type": "code",
   "execution_count": 2,
   "metadata": {},
   "outputs": [],
   "source": [
    "scripts = (\n",
    "    \"ing\",\n",
    "    \"hindi\",\n",
    "    \"bangla\",\"guzrati\",\"gurmukhi\",\"oriya\",\n",
    "    \"korean\",\n",
    "    \"telugu\",\"tamil\",\"kannada\",\"malayalam\",\"sinhala\"\n",
    "    # ,\"eng\",\"binaryv\",\"binaryh\",\"hex\",\n",
    "    # \"notosans\"\n",
    ")\n",
    "for x in scripts:\n",
    "    x115 = fontforge.open(f\"/home/viml/mg/font/sfdsource/source115/{x}115.sfd\")\n",
    "    for k,v in guzrati_dict.guzrati_niyu.items():\n",
    "        x115.selection.select(v)\n",
    "        x115.copyReference()\n",
    "        x115.selection.select(k)\n",
    "        x115.clear()\n",
    "        x115.paste()\n",
    "    x115.save()\n",
    "    x115.close()"
   ]
  },
  {
   "cell_type": "code",
   "execution_count": 3,
   "metadata": {},
   "outputs": [],
   "source": [
    "for x in scripts:\n",
    "    x115 = fontforge.open(f\"/home/viml/mg/font/sfdsource/source115/{x}115.sfd\")\n",
    "    for k,v in guzrati_dict.guzrati_ascii_dict.items():\n",
    "        x115.selection.select(v)\n",
    "        x115.copyReference()\n",
    "        x115.selection.select(k)\n",
    "        x115.clear()\n",
    "        x115.paste()\n",
    "    for k,v in guzrati_dict.guzrati_uscii_dict.items():\n",
    "        x115.selection.select(v)\n",
    "        x115.copyReference()\n",
    "        x115.selection.select(k)\n",
    "        x115.clear()\n",
    "        x115.paste()\n",
    "    x115.save()\n",
    "    x115.close()"
   ]
  }
 ],
 "metadata": {
  "kernelspec": {
   "display_name": "Python 3",
   "language": "python",
   "name": "python3"
  },
  "language_info": {
   "codemirror_mode": {
    "name": "ipython",
    "version": 3
   },
   "file_extension": ".py",
   "mimetype": "text/x-python",
   "name": "python",
   "nbconvert_exporter": "python",
   "pygments_lexer": "ipython3",
   "version": "3.10.12"
  }
 },
 "nbformat": 4,
 "nbformat_minor": 2
}
