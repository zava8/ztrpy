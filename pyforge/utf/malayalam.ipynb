{
 "cells": [
  {
   "cell_type": "markdown",
   "metadata": {},
   "source": [
    "[malayAlam_keyboard](https://www.lexilogos.com/keyboard/malayalam.htm)"
   ]
  },
  {
   "cell_type": "code",
   "execution_count": 1,
   "metadata": {},
   "outputs": [
    {
     "name": "stdout",
     "output_type": "stream",
     "text": [
      "{3328: 2304, 3329: 2304, 3330: 2304, 3350: 2326, 3352: 2328, 3357: 2333, 3360: 2336, 3362: 2338, 3365: 2341, 3367: 2343, 3373: 2349, 3382: 2358, 3388: 2304, 3405: 2381, 3406: 2304}\n",
      "{3331: ':', 3333: 'a', 3334: 'A', 3335: 'i', 3336: 'i', 3337: 'u', 3338: 'u', 3342: 'e', 3343: 'e', 3344: 'e', 3346: 'o', 3347: 'o', 3348: 'o', 3353: 'N', 3355: 'C', 3390: 'A', 3391: 'i', 3392: 'i', 3393: 'u', 3394: 'u', 3407: 'O', 3428: '.', 3429: '.', 3430: '0', 3431: '1', 3432: '2', 3433: '3', 3434: '4', 3435: '5', 3436: '6', 3437: '7', 3438: '8', 3439: '9', 3443: 'Y', 3444: 'J', 3445: 'Q', 3446: 'W', 3447: 'P', 3448: 'F'}\n",
      "{3332: 'm', 3339: 'r', 3340: 'l', 3349: 'k', 3351: 'g', 3354: 'c', 3356: 'z', 3358: 'n', 3359: 't', 3361: 'd', 3363: 'n', 3364: 'T', 3366: 'D', 3368: 'n', 3369: 'n', 3370: 'p', 3371: 'f', 3372: 'b', 3374: 'm', 3375: 'y', 3376: 'r', 3377: 'R', 3378: 'l', 3379: 'L', 3380: 'L', 3381: 'w', 3383: 's', 3384: 's', 3385: 'H', 3386: 't', 3395: 'r', 3396: 'R', 3412: 'm', 3413: 'y', 3414: 'L', 3424: 'r', 3425: 'l', 3426: 'l', 3427: 'l', 3450: 'n', 3451: 'n', 3452: 'R', 3453: 'l', 3454: 'L', 3455: 'k'}\n"
     ]
    }
   ],
   "source": [
    "import fontforge\n",
    "import malayalam_dict\n",
    "print(malayalam_dict.malayalam_niyu)\n",
    "print(malayalam_dict.malayalam_ascii_dict)\n",
    "print(malayalam_dict.malayalam_uscii_dict)"
   ]
  },
  {
   "cell_type": "code",
   "execution_count": 2,
   "metadata": {},
   "outputs": [],
   "source": [
    "scripts = (\n",
    "    \"ing\",\n",
    "    \"hindi\",\n",
    "    \"bangla\",\"guzrati\",\"gurmukhi\",\"oriya\",\n",
    "    \"korean\",\n",
    "    \"telugu\",\"tamil\",\"kannada\",\"malayalam\",\"sinhala\"\n",
    "    # ,\"eng\",\"binaryv\",\"binaryh\",\"hex\",\n",
    "    # \"notosans\"\n",
    ")\n",
    "for x in scripts:\n",
    "    x115 = fontforge.open(f\"/home/viml/mg/font/sfdsource/source115/{x}115.sfd\")\n",
    "    for k,v in malayalam_dict.malayalam_niyu.items():\n",
    "        x115.selection.select(v)\n",
    "        x115.copyReference()\n",
    "        x115.selection.select(k)\n",
    "        x115.clear()\n",
    "        x115.paste()\n",
    "    x115.save()\n",
    "    x115.close()"
   ]
  },
  {
   "cell_type": "code",
   "execution_count": 3,
   "metadata": {},
   "outputs": [],
   "source": [
    "for x in scripts:\n",
    "    x115 = fontforge.open(f\"/home/viml/mg/font/sfdsource/source115/{x}115.sfd\")\n",
    "    for k,v in malayalam_dict.malayalam_ascii_dict.items():\n",
    "        x115.selection.select(v)\n",
    "        x115.copyReference()\n",
    "        x115.selection.select(k)\n",
    "        x115.clear()\n",
    "        x115.paste()\n",
    "    for k,v in malayalam_dict.malayalam_uscii_dict.items():\n",
    "        x115.selection.select(v)\n",
    "        x115.copyReference()\n",
    "        x115.selection.select(k)\n",
    "        x115.clear()\n",
    "        x115.paste()\n",
    "    x115.save()\n",
    "    x115.close()"
   ]
  }
 ],
 "metadata": {
  "kernelspec": {
   "display_name": "Python 3",
   "language": "python",
   "name": "python3"
  },
  "language_info": {
   "codemirror_mode": {
    "name": "ipython",
    "version": 3
   },
   "file_extension": ".py",
   "mimetype": "text/x-python",
   "name": "python",
   "nbconvert_exporter": "python",
   "pygments_lexer": "ipython3",
   "version": "3.10.12"
  }
 },
 "nbformat": 4,
 "nbformat_minor": 2
}
