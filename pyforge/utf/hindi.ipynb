{
 "cells": [
  {
   "cell_type": "markdown",
   "metadata": {},
   "source": [
    "[malayAlam_keyboard](https://www.lexilogos.com/keyboard/malayalam.htm)"
   ]
  },
  {
   "cell_type": "code",
   "execution_count": 1,
   "metadata": {},
   "outputs": [
    {
     "name": "stdout",
     "output_type": "stream",
     "text": [
      "{2304: 2305, 2308: 2319, 2312: 2311, 2314: 2313, 2317: 2319, 2318: 2319, 2320: 2319, 2321: 2323, 2322: 2323, 2324: 2323, 2364: 2381, 2365: 2381, 2419: 2319, 2420: 2323, 2421: 2323, 2422: 2313, 2423: 2313}\n",
      "{2307: 'a', 2309: 'a', 2327: 'g', 2329: 'N', 2330: 'c', 2331: 'C', 2340: 'T', 2342: 'D', 2353: 'R', 2355: 'L', 2356: 'L', 2361: 'H', 2362: 'e', 2363: 'i', 2366: 'A', 2368: 'i', 2369: 'u', 2370: 'u', 2372: 'R', 2373: 'e', 2374: 'e', 2375: 'e', 2376: 'e', 2377: 'o', 2378: 'o', 2379: 'o', 2380: 'o', 2383: 'o', 2389: 'e', 2390: 'u', 2391: 'u', 2394: 'g', 2400: 'R', 2401: 'L', 2403: 'L', 2404: '.', 2405: '.', 2406: '0', 2407: '1', 2408: '2', 2409: '3', 2410: '4', 2411: '5', 2412: '6', 2413: '7', 2414: '8', 2415: '9', 2416: '-', 2418: 'a', 2427: 'g', 2429: '?'}\n",
      "{2315: 'r', 2316: 'l', 2325: 'k', 2332: 'z', 2334: 'n', 2335: 't', 2337: 'd', 2339: 'n', 2344: 'n', 2345: 'n', 2346: 'p', 2347: 'f', 2348: 'b', 2350: 'm', 2351: 'y', 2352: 'r', 2354: 'l', 2357: 'v', 2359: 's', 2360: 's', 2371: 'r', 2392: 'k', 2395: 'z', 2396: 'd', 2397: 'd', 2398: 'f', 2399: 'y', 2402: 'l', 2424: 'd', 2426: 'y', 2428: 'z', 2430: 'd', 2431: 'b'}\n"
     ]
    }
   ],
   "source": [
    "import fontforge\n",
    "import hindi_dict\n",
    "print(hindi_dict.hindi_niyu)\n",
    "print(hindi_dict.hindi_ascii_dict)\n",
    "print(hindi_dict.hindi_uscii_dict)"
   ]
  },
  {
   "cell_type": "code",
   "execution_count": 2,
   "metadata": {},
   "outputs": [],
   "source": [
    "scripts = (\n",
    "    \"ing\",\n",
    "    \"hindi\",\n",
    "    \"bangla\",\"guzrati\",\"gurmukhi\",\"oriya\",\n",
    "    \"korean\",\n",
    "    \"telugu\",\"tamil\",\"kannada\",\"malayalam\",\"sinhala\"\n",
    "    # ,\"eng\",\"binaryv\",\"binaryh\",\"hex\",\n",
    "    # \"notosans\"\n",
    ")\n",
    "for x in scripts:\n",
    "    x115 = fontforge.open(f\"/home/viml/mg/font/sfdsource/source115/{x}115.sfd\")\n",
    "    for k,v in hindi_dict.hindi_niyu.items():\n",
    "        x115.selection.select(v)\n",
    "        x115.copyReference()\n",
    "        x115.selection.select(k)\n",
    "        x115.clear()\n",
    "        x115.paste()\n",
    "    x115.save()\n",
    "    x115.close()"
   ]
  },
  {
   "cell_type": "code",
   "execution_count": 3,
   "metadata": {},
   "outputs": [],
   "source": [
    "for x in scripts:\n",
    "    x115 = fontforge.open(f\"/home/viml/mg/font/sfdsource/source115/{x}115.sfd\")\n",
    "    for k,v in hindi_dict.hindi_ascii_dict.items():\n",
    "        x115.selection.select(v)\n",
    "        x115.copyReference()\n",
    "        x115.selection.select(k)\n",
    "        x115.clear()\n",
    "        x115.paste()\n",
    "    for k,v in hindi_dict.hindi_uscii_dict.items():\n",
    "        x115.selection.select(v)\n",
    "        x115.copyReference()\n",
    "        x115.selection.select(k)\n",
    "        x115.clear()\n",
    "        x115.paste()\n",
    "    x115.save()\n",
    "    x115.close()"
   ]
  }
 ],
 "metadata": {
  "kernelspec": {
   "display_name": "Python 3",
   "language": "python",
   "name": "python3"
  },
  "language_info": {
   "codemirror_mode": {
    "name": "ipython",
    "version": 3
   },
   "file_extension": ".py",
   "mimetype": "text/x-python",
   "name": "python",
   "nbconvert_exporter": "python",
   "pygments_lexer": "ipython3",
   "version": "3.10.12"
  }
 },
 "nbformat": 4,
 "nbformat_minor": 2
}
