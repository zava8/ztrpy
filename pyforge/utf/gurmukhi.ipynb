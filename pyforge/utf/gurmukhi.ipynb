{
 "cells": [
  {
   "cell_type": "markdown",
   "metadata": {},
   "source": [
    "[gurmukhi_keyboard](https://www.lexilogos.com/keyboard/gurmukhi.htm)"
   ]
  },
  {
   "cell_type": "code",
   "execution_count": 1,
   "metadata": {},
   "outputs": [
    {
     "name": "stdout",
     "output_type": "stream",
     "text": [
      "{3072: 2305, 3073: 2305, 3074: 2306, 3076: 2305, 3094: 2326, 3096: 2328, 3101: 2333, 3104: 2336, 3106: 2338, 3109: 2341, 3111: 2343, 3117: 2349, 3126: 2358, 3132: 2381, 3133: 2381, 3149: 2381}\n",
      "{3075: 'H', 3077: 'a', 3078: 'A', 3079: 'i', 3080: 'i', 3081: 'u', 3082: 'u', 3086: 'e', 3087: 'e', 3088: 'e', 3090: 'o', 3091: 'o', 3092: 'o', 3095: 'g', 3097: 'N', 3098: 'c', 3099: 'C', 3108: 'T', 3110: 'D', 3121: 'R', 3123: 'L', 3124: 'L', 3129: 'H', 3134: 'A', 3135: 'i', 3136: 'i', 3137: 'u', 3138: 'u', 3140: 'R', 3142: 'e', 3143: 'e', 3144: 'e', 3146: 'o', 3147: 'o', 3148: 'o', 3157: 'O', 3158: 'e', 3160: 's', 3161: 'z', 3168: 'R', 3169: 'L', 3171: 'L', 3172: '.', 3173: '.', 3174: '0', 3175: '1', 3176: '2', 3177: '3', 3178: '4', 3179: '5', 3180: '6', 3181: '7', 3182: '8', 3183: '9', 3184: 'Y', 3185: 'J', 3186: 'Q', 3187: 'W', 3188: 'P', 3189: 'F'}\n",
      "{3083: 'r', 3084: 'l', 3093: 'k', 3100: 'z', 3102: 'n', 3103: 't', 3105: 'd', 3107: 'n', 3112: 'n', 3114: 'p', 3115: 'f', 3116: 'b', 3118: 'm', 3119: 'y', 3120: 'r', 3122: 'l', 3125: 'v', 3127: 's', 3128: 's', 3139: 'r', 3162: 'r', 3165: 'n', 3170: 'l'}\n"
     ]
    }
   ],
   "source": [
    "import fontforge\n",
    "import gurmukhi_dict\n",
    "print(gurmukhi_dict.gurmukhi_niyu)\n",
    "print(gurmukhi_dict.gurmukhi_ascii_dict)\n",
    "print(gurmukhi_dict.gurmukhi_uscii_dict)"
   ]
  },
  {
   "cell_type": "code",
   "execution_count": 2,
   "metadata": {},
   "outputs": [],
   "source": [
    "scripts = (\n",
    "    \"ing\",\n",
    "    \"hindi\",\n",
    "    \"bangla\",\"guzrati\",\"gurmukhi\",\"oriya\",\n",
    "    \"korean\",\n",
    "    \"telugu\",\"tamil\",\"kannada\",\"malayalam\",\"sinhala\"\n",
    "    # ,\"eng\",\"binaryv\",\"binaryh\",\"hex\",\n",
    "    # \"notosans\"\n",
    ")\n",
    "for x in scripts:\n",
    "    x115 = fontforge.open(f\"/home/viml/mg/font/sfdsource/source115/{x}115.sfd\")\n",
    "    for k,v in gurmukhi_dict.gurmukhi_niyu.items():\n",
    "        x115.selection.select(v)\n",
    "        x115.copyReference()\n",
    "        x115.selection.select(k)\n",
    "        x115.clear()\n",
    "        x115.paste()\n",
    "    x115.save()\n",
    "    x115.close()"
   ]
  },
  {
   "cell_type": "code",
   "execution_count": 3,
   "metadata": {},
   "outputs": [],
   "source": [
    "for x in scripts:\n",
    "    x115 = fontforge.open(f\"/home/viml/mg/font/sfdsource/source115/{x}115.sfd\")\n",
    "    for k,v in gurmukhi_dict.gurmukhi_ascii_dict.items():\n",
    "        x115.selection.select(v)\n",
    "        x115.copyReference()\n",
    "        x115.selection.select(k)\n",
    "        x115.clear()\n",
    "        x115.paste()\n",
    "    for k,v in gurmukhi_dict.gurmukhi_uscii_dict.items():\n",
    "        x115.selection.select(v)\n",
    "        x115.copyReference()\n",
    "        x115.selection.select(k)\n",
    "        x115.clear()\n",
    "        x115.paste()\n",
    "    x115.save()\n",
    "    x115.close()"
   ]
  }
 ],
 "metadata": {
  "kernelspec": {
   "display_name": "Python 3",
   "language": "python",
   "name": "python3"
  },
  "language_info": {
   "codemirror_mode": {
    "name": "ipython",
    "version": 3
   },
   "file_extension": ".py",
   "mimetype": "text/x-python",
   "name": "python",
   "nbconvert_exporter": "python",
   "pygments_lexer": "ipython3",
   "version": "3.10.12"
  }
 },
 "nbformat": 4,
 "nbformat_minor": 2
}
