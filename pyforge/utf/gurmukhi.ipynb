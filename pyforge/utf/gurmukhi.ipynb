{
 "cells": [
  {
   "cell_type": "markdown",
   "metadata": {},
   "source": [
    "[gurmukhi_keyboard](https://www.lexilogos.com/keyboard/gurmukhi.htm)"
   ]
  },
  {
   "cell_type": "code",
   "execution_count": 1,
   "metadata": {},
   "outputs": [
    {
     "name": "stdout",
     "output_type": "stream",
     "text": [
      "{2561: 2305, 2562: 2306, 2566: 2310, 2567: 2311, 2568: 2311, 2569: 2313, 2570: 2313, 2575: 2319, 2576: 2319, 2579: 2323, 2580: 2323, 2584: 2328, 2597: 2341, 2599: 2343, 2620: 2381, 2637: 2381, 2650: 2328, 2672: 2306, 2673: 2305, 2674: 2311, 2675: 2313}\n",
      "{2563: 'a', 2565: 'a', 2583: 'g', 2585: 'N', 2586: 'c', 2587: 'C', 2596: 'T', 2598: 'D', 2611: 'L', 2617: 'H', 2622: 'A', 2624: 'i', 2625: 'u', 2626: 'u', 2631: 'e', 2632: 'e', 2635: 'o', 2636: 'o', 2660: '.', 2661: '.', 2662: '0', 2663: '1', 2664: '2', 2665: '3', 2666: '4', 2667: '5', 2668: '6', 2669: '7', 2670: '8', 2671: '9', 2678: '-'}\n",
      "{2581: 'k', 2588: 'z', 2590: 'n', 2591: 't', 2593: 'd', 2595: 'n', 2600: 'n', 2602: 'p', 2603: 'f', 2604: 'b', 2606: 'm', 2607: 'y', 2608: 'r', 2610: 'l', 2613: 'v', 2616: 's', 2651: 'z', 2652: 'd', 2654: 'f', 2677: 'y'}\n"
     ]
    }
   ],
   "source": [
    "import fontforge\n",
    "import gurmukhi_dict\n",
    "print(gurmukhi_dict.gurmukhi_niyu)\n",
    "print(gurmukhi_dict.gurmukhi_ascii_dict)\n",
    "print(gurmukhi_dict.gurmukhi_uscii_dict)"
   ]
  },
  {
   "cell_type": "code",
   "execution_count": 2,
   "metadata": {},
   "outputs": [],
   "source": [
    "scripts = (\n",
    "    \"ing\",\n",
    "    \"hindi\",\n",
    "    \"bangla\",\"guzrati\",\"gurmukhi\",\"oriya\",\n",
    "    \"korean\",\n",
    "    \"telugu\",\"tamil\",\"kannada\",\"malayalam\",\"sinhala\"\n",
    "    # ,\"eng\",\"binaryv\",\"binaryh\",\"hex\",\n",
    "    # \"notosans\"\n",
    ")\n",
    "for x in scripts:\n",
    "    x115 = fontforge.open(f\"/home/viml/mg/font/sfdsource/source115/{x}115.sfd\")\n",
    "    for k,v in gurmukhi_dict.gurmukhi_niyu.items():\n",
    "        x115.selection.select(v)\n",
    "        x115.copyReference()\n",
    "        x115.selection.select(k)\n",
    "        x115.clear()\n",
    "        x115.paste()\n",
    "    x115.save()\n",
    "    x115.close()"
   ]
  },
  {
   "cell_type": "code",
   "execution_count": 3,
   "metadata": {},
   "outputs": [],
   "source": [
    "for x in scripts:\n",
    "    x115 = fontforge.open(f\"/home/viml/mg/font/sfdsource/source115/{x}115.sfd\")\n",
    "    for k,v in gurmukhi_dict.gurmukhi_ascii_dict.items():\n",
    "        x115.selection.select(v)\n",
    "        x115.copyReference()\n",
    "        x115.selection.select(k)\n",
    "        x115.clear()\n",
    "        x115.paste()\n",
    "    for k,v in gurmukhi_dict.gurmukhi_uscii_dict.items():\n",
    "        x115.selection.select(v)\n",
    "        x115.copyReference()\n",
    "        x115.selection.select(k)\n",
    "        x115.clear()\n",
    "        x115.paste()\n",
    "    x115.save()\n",
    "    x115.close()"
   ]
  }
 ],
 "metadata": {
  "kernelspec": {
   "display_name": "Python 3",
   "language": "python",
   "name": "python3"
  },
  "language_info": {
   "codemirror_mode": {
    "name": "ipython",
    "version": 3
   },
   "file_extension": ".py",
   "mimetype": "text/x-python",
   "name": "python",
   "nbconvert_exporter": "python",
   "pygments_lexer": "ipython3",
   "version": "3.10.12"
  }
 },
 "nbformat": 4,
 "nbformat_minor": 2
}
