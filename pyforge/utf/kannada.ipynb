{
 "cells": [
  {
   "cell_type": "markdown",
   "metadata": {},
   "source": [
    "[malayAlam_keyboard](https://www.lexilogos.com/keyboard/malayalam.htm)"
   ]
  },
  {
   "cell_type": "code",
   "execution_count": 2,
   "metadata": {},
   "outputs": [
    {
     "name": "stdout",
     "output_type": "stream",
     "text": [
      "{3200: 2305, 3201: 2305, 3202: 2306, 3206: 2310, 3207: 2311, 3208: 2311, 3209: 2313, 3210: 2313, 3214: 2319, 3215: 2319, 3216: 2319, 3218: 2323, 3219: 2323, 3220: 2323, 3224: 2328, 3237: 2341, 3239: 2343, 3260: 2381, 3261: 2381, 3277: 2381}\n",
      "{3203: 'a', 3205: 'a', 3223: 'g', 3225: 'N', 3226: 'c', 3227: 'C', 3236: 'T', 3238: 'D', 3249: 'R', 3251: 'L', 3257: 'H', 3262: 'A', 3264: 'i', 3265: 'u', 3266: 'u', 3268: 'R', 3270: 'e', 3271: 'e', 3272: 'e', 3274: 'o', 3275: 'o', 3276: 'o', 3296: 'R', 3297: 'L', 3299: 'L', 3300: '.', 3301: '.', 3302: '0', 3303: '1', 3304: '2', 3305: '3', 3306: '4', 3307: '5', 3308: '6', 3309: '7', 3310: '8', 3311: '9', 3312: 'Y', 3316: 'P', 3317: 'F'}\n",
      "{3211: 'r', 3212: 'l', 3221: 'k', 3228: 'z', 3230: 'n', 3231: 't', 3233: 'd', 3235: 'n', 3240: 'n', 3242: 'p', 3243: 'f', 3244: 'b', 3246: 'm', 3247: 'y', 3248: 'r', 3250: 'l', 3253: 'v', 3255: 's', 3256: 's', 3267: 'r', 3293: 'd', 3294: 'f', 3298: 'l'}\n"
     ]
    }
   ],
   "source": [
    "import fontforge\n",
    "import kannada_dict\n",
    "print(kannada_dict.kannada_niyu)\n",
    "print(kannada_dict.kannada_ascii_dict)\n",
    "print(kannada_dict.kannada_uscii_dict)"
   ]
  },
  {
   "cell_type": "code",
   "execution_count": 3,
   "metadata": {},
   "outputs": [],
   "source": [
    "scripts = (\n",
    "    \"ing\",\n",
    "    \"hindi\",\n",
    "    \"bangla\",\"guzrati\",\"gurmukhi\",\"oriya\",\n",
    "    \"korean\",\n",
    "    \"telugu\",\"tamil\",\"kannada\",\"malayalam\",\"sinhala\"\n",
    "    # ,\"eng\",\"binaryv\",\"binaryh\",\"hex\",\n",
    "    # \"notosans\"\n",
    ")\n",
    "for x in scripts:\n",
    "    x115 = fontforge.open(f\"/home/viml/mg/font/sfdsource/source115/{x}115.sfd\")\n",
    "    for k,v in kannada_dict.kannada_niyu.items():\n",
    "        x115.selection.select(v)\n",
    "        x115.copyReference()\n",
    "        x115.selection.select(k)\n",
    "        x115.clear()\n",
    "        x115.paste()\n",
    "    x115.save()\n",
    "    x115.close()"
   ]
  },
  {
   "cell_type": "code",
   "execution_count": 4,
   "metadata": {},
   "outputs": [],
   "source": [
    "for x in scripts:\n",
    "    x115 = fontforge.open(f\"/home/viml/mg/font/sfdsource/source115/{x}115.sfd\")\n",
    "    for k,v in kannada_dict.kannada_ascii_dict.items():\n",
    "        x115.selection.select(v)\n",
    "        x115.copyReference()\n",
    "        x115.selection.select(k)\n",
    "        x115.clear()\n",
    "        x115.paste()\n",
    "    for k,v in kannada_dict.kannada_uscii_dict.items():\n",
    "        x115.selection.select(v)\n",
    "        x115.copyReference()\n",
    "        x115.selection.select(k)\n",
    "        x115.clear()\n",
    "        x115.paste()\n",
    "    x115.save()\n",
    "    x115.close()"
   ]
  }
 ],
 "metadata": {
  "kernelspec": {
   "display_name": "Python 3",
   "language": "python",
   "name": "python3"
  },
  "language_info": {
   "codemirror_mode": {
    "name": "ipython",
    "version": 3
   },
   "file_extension": ".py",
   "mimetype": "text/x-python",
   "name": "python",
   "nbconvert_exporter": "python",
   "pygments_lexer": "ipython3",
   "version": "3.10.12"
  }
 },
 "nbformat": 4,
 "nbformat_minor": 2
}
