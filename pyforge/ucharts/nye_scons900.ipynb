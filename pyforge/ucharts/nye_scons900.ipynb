{
 "cells": [
  {
   "cell_type": "code",
   "execution_count": null,
   "metadata": {},
   "outputs": [],
   "source": [
    "nye900 = {\n",
    "    \"K\":0x916, \"G\":0x918, \"C\":0x91B, \"Z\":0x91D, \"th\":0x920,\n",
    "    \"dh\":0x922, \"Th\":0x925, \"Dh\":0x927, \"B\":0x92D, \"S\":0x936,\n",
    "    \"bindu\":0x901, \"nbindu\":0x902, \"viram\":0x94D,\n",
    "}"
   ]
  }
 ],
 "metadata": {
  "kernelspec": {
   "display_name": "Python 3",
   "language": "python",
   "name": "python3"
  },
  "language_info": {
   "name": "python",
   "version": "3.10.12"
  }
 },
 "nbformat": 4,
 "nbformat_minor": 2
}
