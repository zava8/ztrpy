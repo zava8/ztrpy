{
 "cells": [
  {
   "cell_type": "code",
   "execution_count": 13,
   "metadata": {},
   "outputs": [],
   "source": [
    "import fontforge"
   ]
  },
  {
   "cell_type": "markdown",
   "metadata": {},
   "source": [
    "[malayAlam_keyboard](https://www.lexilogos.com/keyboard/malayalam.htm)"
   ]
  },
  {
   "cell_type": "code",
   "execution_count": 8,
   "metadata": {},
   "outputs": [
    {
     "name": "stdout",
     "output_type": "stream",
     "text": [
      "{3332: 'm', 3339: 'r', 3340: 'l', 3349: 'k', 3350: 'K', 3351: 'g', 3352: 'G', 3353: 'N', 3354: 'c', 3355: 'C', 3356: 'z', 3357: 'Z', 3358: 'n', 3359: 't', 3360: 't', 3361: 'd', 3362: 'd', 3363: 'n', 3364: 'T', 3365: 'T', 3366: 'D', 3367: 'D', 3368: 'n', 3369: 'n', 3370: 'p', 3371: 'f', 3372: 'b', 3373: 'B', 3374: 'm', 3375: 'y', 3376: 'r', 3377: 'R', 3378: 'l', 3379: 'L', 3380: 'L', 3381: 'w', 3382: 'S', 3383: 's', 3384: 's', 3385: 'H', 3386: 't', 3395: 'r', 3396: 'R', 3412: 'm', 3413: 'y', 3414: 'L', 3424: 'R', 3425: 'L', 3426: 'l', 3427: 'L', 3450: 'n', 3451: 'n', 3452: 'R', 3453: 'l', 3454: 'L', 3455: 'k'}\n"
     ]
    }
   ],
   "source": [
    "mlymust= {\n",
    "0xD04:\"m\",\n",
    "0xD0B:\"r\", 0xD0C:\"l\", 0xD15:\"k\", 0xD16:\"K\", 0xD17:\"g\", 0xD18:\"G\", 0xD19:\"N\", 0xD1A:\"c\", 0xD1B:\"C\", 0xD1C:\"z\", 0xD1D:\"Z\",\n",
    "0xD1E:\"n\", 0xD1F:\"t\", 0xD20:\"t\", 0xD21:\"d\", 0xD22:\"d\", 0xD23:\"n\", 0xD24:\"T\", 0xD25:\"T\", 0xD26:\"D\", 0xD27:\"D\", 0xD28:\"n\",\n",
    "0xD29:\"n\", 0xD2A:\"p\", 0xD2B:\"f\", 0xD2C:\"b\", 0xD2D:\"B\", 0xD2E:\"m\", 0xD2F:\"y\", 0xD30:\"r\", 0xD31:\"R\", 0xD32:\"l\", 0xD33:\"L\",\n",
    "0xD34:\"L\", 0xD35:\"w\", 0xD36:\"S\", 0xD37:\"s\", 0xD38:\"s\", 0xD39:\"H\", 0xD3A:\"t\", 0xD43:\"r\", 0xD44:\"R\", 0xD54:\"m\", 0xD55:\"y\",\n",
    "0xD56:\"L\", 0xD60:\"R\", 0xD61:\"L\", 0xD62:\"l\", 0xD63:\"L\", 0xD7A:\"n\", 0xD7B:\"n\", 0xD7C:\"R\", 0xD7D:\"l\", 0xD7E:\"L\", 0xD7F:\"k\"\n",
    "}\n",
    "print(mlymust)"
   ]
  },
  {
   "cell_type": "code",
   "execution_count": 12,
   "metadata": {},
   "outputs": [
    {
     "name": "stdout",
     "output_type": "stream",
     "text": [
      "{3331: ':', 3333: 'a', 3334: 'A', 3335: 'i', 3336: 'i', 3337: 'u', 3338: 'u', 3341: 'e', 3342: 'e', 3343: 'e', 3344: 'e', 3345: 'o', 3346: 'o', 3347: 'o', 3348: 'o', 3390: 'A', 3391: 'i', 3392: 'i', 3393: 'u', 3394: 'u', 3397: 'e', 3407: 'O', 3428: '.', 3429: '.', 3430: '0', 3431: '1', 3432: '2', 3433: '3', 3434: '4', 3435: '5', 3436: '6', 3437: '7', 3438: '8', 3439: '9', 3443: 'Y', 3444: 'J', 3445: 'Q', 3446: 'W', 3447: 'P', 3448: 'F'}\n"
     ]
    }
   ],
   "source": [
    "mlyingchars={\n",
    "0xD03:\":\", 0xD05:\"a\", 0xD06:\"A\", 0xD07:\"i\", 0xD08:\"i\", 0xD09:\"u\", 0xD0A:\"u\", 0xD0D:\"e\", 0xD0E:\"e\",\n",
    "0xD0F:\"e\", 0xD10:\"e\", 0xD11:\"o\", 0xD12:\"o\", 0xD13:\"o\", 0xD14:\"o\", 0xD3E:\"A\", 0xD3F:\"i\", 0xD40:\"i\",\n",
    "0xD41:\"u\", 0xD42:\"u\", 0xD45:\"e\", 0xD4F:\"O\", 0xD64:\".\", 0xD65:\".\", 0xD66:\"0\", 0xD67:\"1\", 0xD68:\"2\",\n",
    "0xD69:\"3\", 0xD6A:\"4\", 0xD6B:\"5\", 0xD6C:\"6\", 0xD6D:\"7\", 0xD6E:\"8\", 0xD6F:\"9\", 0xD73:\"Y\", 0xD74:\"J\",\n",
    "0xD75:\"Q\", 0xD76:\"W\", 0xD77:\"P\", 0xD78:\"F\",\n",
    "}\n",
    "print(mlyingchars)"
   ]
  },
  {
   "cell_type": "code",
   "execution_count": 14,
   "metadata": {},
   "outputs": [
    {
     "name": "stdout",
     "output_type": "stream",
     "text": [
      "{3328: 2304, 3329: 2304, 3330: 2304, 3388: 2304, 3405: 2381, 3406: 2304}\n"
     ]
    }
   ],
   "source": [
    "mly_virmbindot = {\n",
    "    0xD00:0x900, 0xD01:0x900, 0xD02:0x900, 0xD3C:0x900, 0xD4D:0x94D, 0xD4E:0x900\n",
    "}\n",
    "print(mly_virmbindot)"
   ]
  },
  {
   "cell_type": "code",
   "execution_count": 9,
   "metadata": {},
   "outputs": [
    {
     "name": "stdout",
     "output_type": "stream",
     "text": [
      "(3387, 3389, 3398, 3399, 3400, 3402, 3403, 3404, 3415, 3416, 3417, 3418, 3419, 3420, 3421, 3422, 3423, 3440, 3441, 3442, 3449)\n"
     ]
    }
   ],
   "source": [
    "mlychart = (\n",
    "    0xD3B, 0xD3D, 0xD46, 0xD47, 0xD48, 0xD4A, 0xD4B,\n",
    "    0xD4C, 0xD57, 0xD58, 0xD59, 0xD5A, 0xD5B, 0xD5C,\n",
    "    0xD5D, 0xD5E, 0xD5F, 0xD70, 0xD71, 0xD72, 0xD79,\n",
    ")\n",
    "print(mlychart)"
   ]
  },
  {
   "cell_type": "code",
   "execution_count": 3,
   "metadata": {},
   "outputs": [],
   "source": [
    "# copy reference from ascii to unicodehindi\n",
    "scripts = (\n",
    "    \"ing\",\n",
    "    \"hindi\",\n",
    "    \"bangla\",\"guzrati\",\"gurmukhi\",\"oriya\",\n",
    "    \"korean\",\n",
    "    \"telugu\",\"tamil\",\"kannada\",\"malayalam\",\"sinhala\"\n",
    "    # ,\"eng\",\"binaryv\",\"binaryh\",\"hex\",\n",
    "    # \"notosans\"\n",
    ")\n",
    "for x in scripts:\n",
    "    x115 = fontforge.open(f\"/home/viml/mg/font/sfd/5/115/{x}115.sfd\")\n",
    "    for k,v in mlymust.items():\n",
    "        x115.selection.select(v[0])\n",
    "        x115.copyReference()\n",
    "        x115.selection.select(k)\n",
    "        x115.paste()\n",
    "    x115.save()\n",
    "    x115.close()"
   ]
  },
  {
   "cell_type": "code",
   "execution_count": null,
   "metadata": {},
   "outputs": [],
   "source": [
    "scripts = (\n",
    "    \"ing\",\n",
    "    \"hindi\",\n",
    "    \"bangla\",\"guzrati\",\"gurmukhi\",\"oriya\",\n",
    "    \"korean\",\n",
    "    \"telugu\",\"tamil\",\"kannada\",\"malayalam\",\"sinhala\"\n",
    "    # ,\"eng\",\"binaryv\",\"binaryh\",\"hex\",\n",
    "    # \"notosans\"\n",
    ")\n",
    "ing115src = fontforge.open(f\"/home/viml/mg/font/sfdsource/source115/ing115.sfd\")\n",
    "for x in scripts:\n",
    "    x115 = fontforge.open(f\"/home/viml/mg/font/sfd/5/115/{x}115.sfd\")\n",
    "    for k in mlychart:\n",
    "        ing115src.selection.select(k)\n",
    "        ing115src.copy()\n",
    "        x115.selection.select(k)\n",
    "        x115.paste()\n",
    "    x115.save()\n",
    "    x115.close()\n",
    "ing115src.close()"
   ]
  }
 ],
 "metadata": {
  "kernelspec": {
   "display_name": "Python 3",
   "language": "python",
   "name": "python3"
  },
  "language_info": {
   "codemirror_mode": {
    "name": "ipython",
    "version": 3
   },
   "file_extension": ".py",
   "mimetype": "text/x-python",
   "name": "python",
   "nbconvert_exporter": "python",
   "pygments_lexer": "ipython3",
   "version": "3.10.12"
  }
 },
 "nbformat": 4,
 "nbformat_minor": 2
}
