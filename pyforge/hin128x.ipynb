{
 "cells": [
  {
   "cell_type": "code",
   "execution_count": 1,
   "metadata": {},
   "outputs": [],
   "source": [
    "import fontforge\n",
    "import os\n",
    "import shutil\n",
    "# import importlib\n",
    "from iudhin import iudhin\n",
    "scripts = (\n",
    "    # \"ing\",\n",
    "    \"hindi\",\n",
    "    \"bangla\",\"guzrati\",\"gurmukhi\",\"oriya\",\n",
    "    \"korean\",\n",
    "    \"telugu\",\"tamil\",\"kannada\",\"malayalam\",\"sinhala\"\n",
    "    # ,\"eng\",\"binaryv\",\"binaryh\",\"hex\",\n",
    "    # \"notosans\"\n",
    ")\n",
    "# ff_dict={}\n",
    "qvjtx2aDHTt = {\"A\":\"q\",\"H\":\"j\",\"T\":\"t\",\"D\":\"v\",\"t\":\"x\"}\n"
   ]
  },
  {
   "cell_type": "code",
   "execution_count": 2,
   "metadata": {},
   "outputs": [
    {
     "name": "stdout",
     "output_type": "stream",
     "text": [
      "0x20, 0x21, 0x22, 0x23, 0x24, 0x25, 0x26, 0x27, 0x28, 0x29, 0x2a, 0x2b, 0x2c, 0x2d, 0x2e, 0x2f, 0x30, 0x31, 0x32, 0x33, 0x34, 0x35, 0x36, 0x37, 0x38, 0x39, 0x3a, 0x3b, 0x3c, 0x3d, 0x3e, 0x3f, 0x40, 0x41, 0x42, 0x43, 0x44, 0x45, 0x46, 0x47, 0x48, 0x49, 0x4a, 0x4b, 0x4c, 0x4d, 0x4e, 0x4f, 0x50, 0x51, 0x52, 0x53, 0x54, 0x55, 0x56, 0x57, 0x58, 0x59, 0x5a, 0x5b, 0x5c, 0x5d, 0x5e, 0x5f, 0x60, 0x61, 0x62, 0x63, 0x64, 0x65, 0x66, 0x67, 0x68, 0x69, 0x6a, 0x6b, 0x6c, 0x6d, 0x6e, 0x6f, 0x70, 0x71, 0x72, 0x73, 0x74, 0x75, 0x76, 0x77, 0x78, 0x79, 0x7a, 0x7b, 0x7c, 0x7d, 0x7e, 0x7f, 0x80, 0x81, 0x82, 0x83, 0x84, 0x85, 0x86, 0x87, 0x88, 0x89, 0x8a, 0x8b, 0x8c, 0x8d, 0x8e, 0x8f, 0x90, 0x91, 0x92, 0x93, 0x94, 0x95, 0x96, 0x97, 0x98, 0x99, 0x9a, 0x9b, 0x9c, 0x9d, 0x9e, 0x9f, \n",
      " , !, \", #, $, %, &, ', (, ), *, +, ,, -, ., /, 0, 1, 2, 3, 4, 5, 6, 7, 8, 9, :, ;, <, =, >, ?, @, A, B, C, D, E, F, G, H, I, J, K, L, M, N, O, P, Q, R, S, T, U, V, W, X, Y, Z, [, \\, ], ^, _, `, a, b, c, d, e, f, g, h, i, j, k, l, m, n, o, p, q, r, s, t, u, v, w, x, y, z, {, |, }, ~, , , , , , , , , , , , , , , , , , , , , , , , , , , , , , , , , , \n",
      "{'s', 'l', 'd', 'y', 'f', 'z', 'b', 'p', 't', 'r', 'k', 'm', 'n', 'v'}\n",
      "{98, 100, 102, 107, 108, 109, 110, 112, 114, 115, 116, 118, 121, 122}\n",
      "0x20, 0x21, 0x22, 0x23, 0x24, 0x25, 0x26, 0x27, 0x28, 0x29, 0x2a, 0x2b, 0x2c, 0x2d, 0x2e, 0x2f, 0x30, 0x31, 0x32, 0x33, 0x34, 0x35, 0x36, 0x37, 0x38, 0x39, 0x3a, 0x3b, 0x3c, 0x3d, 0x3e, 0x3f, 0x40, 0x41, 0x42, 0x43, 0x44, 0x45, 0x46, 0x47, 0x48, 0x49, 0x4a, 0x4b, 0x4c, 0x4d, 0x4e, 0x4f, 0x50, 0x51, 0x52, 0x53, 0x54, 0x55, 0x56, 0x57, 0x58, 0x59, 0x5a, 0x5b, 0x5c, 0x5d, 0x5e, 0x5f, 0x60, 0x61, 0x63, 0x65, 0x67, 0x68, 0x69, 0x6a, 0x6f, 0x71, 0x75, 0x77, 0x78, 0x7b, 0x7c, 0x7d, 0x7e, 0x7f, 0x80, 0x81, 0x82, 0x83, 0x84, 0x85, 0x86, 0x87, 0x88, 0x89, 0x8a, 0x8b, 0x8c, 0x8d, 0x8e, 0x8f, 0x90, 0x91, 0x92, 0x93, 0x94, 0x95, 0x96, 0x97, 0x98, 0x99, 0x9a, 0x9b, 0x9c, 0x9d, 0x9e, 0x9f, \n",
      " , !, \", #, $, %, &, ', (, ), *, +, ,, -, ., /, 0, 1, 2, 3, 4, 5, 6, 7, 8, 9, :, ;, <, =, >, ?, @, A, B, C, D, E, F, G, H, I, J, K, L, M, N, O, P, Q, R, S, T, U, V, W, X, Y, Z, [, \\, ], ^, _, `, a, c, e, g, h, i, j, o, q, u, w, x, {, |, }, ~, , , , , , , , , , , , , , , , , , , , , , , , , , , , , , , , , , "
     ]
    }
   ],
   "source": [
    "asc128 = set(range(0x20,0xA0))\n",
    "for x in asc128:\n",
    "    print(hex(x),end=\", \")\n",
    "print()\n",
    "for x in asc128:\n",
    "    print((chr(x)),end=\", \")\n",
    "print()\n",
    "indicable = {(char) for char in 'bdfklmnprstvyz'}\n",
    "print(indicable)\n",
    "indicable = {ord(char) for char in 'bdfklmnprstvyz'}\n",
    "print(indicable)\n",
    "nonindicable128 = asc128 - indicable\n",
    "for x in nonindicable128:\n",
    "    print(hex(x),end=\", \")\n",
    "print()\n",
    "for x in nonindicable128:\n",
    "    print((chr(x)),end=\", \")"
   ]
  },
  {
   "cell_type": "code",
   "execution_count": 12,
   "metadata": {},
   "outputs": [],
   "source": [
    "# copy nonindicable128 from ing115.sfd to x115.sfd\n",
    "scripts = (\n",
    "    \"ing\",\n",
    "    \"hindi\",\n",
    "    \"bangla\",\"guzrati\",\"gurmukhi\",\"oriya\",\n",
    "    \"korean\",\n",
    "    \"telugu\",\"tamil\",\"kannada\",\"malayalam\",\"sinhala\"\n",
    "    # ,\"eng\",\"binaryv\",\"binaryh\",\"hex\",\n",
    "    # \"notosans\"\n",
    ")\n",
    "ing115usm = fontforge.open(f\"/home/viml/mg/font/sfd/5/unisymvoice/ing115.sfd\")\n",
    "for x in scripts:\n",
    "    x115 = fontforge.open(f\"/home/viml/mg/font/sfd/5/115/{x}115.sfd\")\n",
    "    for x in nonindicable128:\n",
    "        ing115usm.selection.select(x)\n",
    "        ing115usm.copy()\n",
    "        x115.selection.select(x)\n",
    "        x115.paste()\n",
    "    x115.save()\n",
    "    x115.close()\n",
    "ing115usm.close()"
   ]
  },
  {
   "cell_type": "code",
   "execution_count": null,
   "metadata": {},
   "outputs": [],
   "source": [
    "    # print(f\"prefs of l{x}05.sfd:\")\n",
    "    # print(tfont.getPrefs())\n",
    "    # ff_dict[x] = fontforge.font()\n",
    "    # ff_dict[x].fontname = tfont.fontname\n",
    "    # ff_dict[x].familyname = tfont.familyname\n",
    "    # ff_dict[x].uniqueid = tfont.uniqueid\n",
    "    # ff_dict[x].xuid = tfont.xuid    \n",
    "    # ff_dict[x].\n",
    "    # ff_dict[x].save(f\"l{x}05_ff.sfd\")"
   ]
  }
 ],
 "metadata": {
  "kernelspec": {
   "display_name": "Python 3",
   "language": "python",
   "name": "python3"
  },
  "language_info": {
   "codemirror_mode": {
    "name": "ipython",
    "version": 3
   },
   "file_extension": ".py",
   "mimetype": "text/x-python",
   "name": "python",
   "nbconvert_exporter": "python",
   "pygments_lexer": "ipython3",
   "version": "3.10.12"
  }
 },
 "nbformat": 4,
 "nbformat_minor": 2
}
