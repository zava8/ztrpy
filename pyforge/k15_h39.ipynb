{
 "cells": [
  {
   "cell_type": "code",
   "execution_count": 6,
   "metadata": {},
   "outputs": [],
   "source": [
    "import fontforge\n",
    "import os\n",
    "import shutil\n",
    "# import importlib\n",
    "from iud import iud\n",
    "scripts = (\n",
    "    # \"ing\",\n",
    "    \"hindi\",\n",
    "    \"bangla\",\"guzrati\",\"gurmukhi\",\"oriya\",\n",
    "    \"korean\",\n",
    "    \"telugu\",\"tamil\",\"kannada\",\"malayalam\",\"sinhala\"\n",
    "    # ,\"eng\",\"binaryv\",\"binaryh\",\"hex\",\n",
    "    # \"notosans\"\n",
    ")\n",
    "# ff_dict={}\n",
    "qvjtx2aDHTt = {\"A\":\"q\",\"H\":\"j\",\"T\":\"t\",\"D\":\"v\",\"t\":\"x\"}\n",
    "t1539=(\"k\",\"K\",\"g\",\"G\",\"N\",\"c\",\"C\",\"z\",\"Z\",\"n\",\"t\",\"t\",\"d\",\"d\",\"n\",\"T\",\"T\",\"D\",\"D\",\"n\",\"n\",\"p\",\"f\",\"b\",\"B\",\"m\",\"y\",\"r\",\"R\",\"l\",\"L\",\"L\",\"w\",\"S\",\"s\",\"s\",\"H\")\n",
    "\n"
   ]
  },
  {
   "cell_type": "code",
   "execution_count": null,
   "metadata": {},
   "outputs": [],
   "source": [
    "for x in range(0, 9):\n",
    "    xmultiplyx80 = x * 0x80 + 0x900\n",
    "    print(hex(xmultiplyx80))\n"
   ]
  },
  {
   "cell_type": "code",
   "execution_count": 8,
   "metadata": {},
   "outputs": [],
   "source": [
    "tplunistart=(0x900,0x980,0xa00,0xa80,0xb00,0xb80,0xc00,0xc80,0xd00)"
   ]
  },
  {
   "cell_type": "code",
   "execution_count": 9,
   "metadata": {},
   "outputs": [],
   "source": [
    "# copy reference from ascii to unicodehindi\n",
    "scripts = (\n",
    "    \"ing\",\n",
    "    \"hindi\",\n",
    "    \"bangla\",\"guzrati\",\"gurmukhi\",\"oriya\",\n",
    "    \"korean\",\n",
    "    \"telugu\",\"tamil\",\"kannada\",\"malayalam\",\"sinhala\"\n",
    "    # ,\"eng\",\"binaryv\",\"binaryh\",\"hex\",\n",
    "    # \"notosans\"\n",
    ")\n",
    "for x in scripts:\n",
    "    x115 = fontforge.open(f\"/home/viml/mg/font/sfd/5/115/{x}115.sfd\")\n",
    "    # for si in tplunistart:\n",
    "    unipos = 0x900+0x15\n",
    "    for ascchar in t1539:\n",
    "        x115.selection.select(ascchar[0])\n",
    "        x115.copyReference()\n",
    "        x115.selection.select(unipos)\n",
    "        x115.paste()\n",
    "        unipos=unipos+1\n",
    "    x115.save()\n",
    "    x115.close()\n",
    "for x in scripts:\n",
    "    x115 = fontforge.open(f\"/home/viml/mg/font/sfd/5/115/{x}115.sfd\")\n",
    "    tpluni2start=(0x980,0xa00,0xa80,0xb00,0xb80,0xc00,0xc80,0xd00)\n",
    "    x115.selection.select((\"ranges\",None),0x915,0x939)\n",
    "    x115.copyReference()\n",
    "    for si in tpluni2start:\n",
    "        x115.selection.select((\"ranges\",None),si+0x15,si+0x39)\n",
    "        x115.copyReference()\n",
    "        x115.selection.select(unipos)\n",
    "        x115.paste()\n",
    "        unipos=unipos+1\n",
    "    x115.save()\n",
    "    x115.close()"
   ]
  },
  {
   "cell_type": "code",
   "execution_count": 8,
   "metadata": {},
   "outputs": [],
   "source": [
    "# copy unicode hindi to other unicode indik\n",
    "scripts = (\n",
    "    \"ing\",\n",
    "    \"hindi\",\n",
    "    \"bangla\",\"guzrati\",\"gurmukhi\",\"oriya\",\n",
    "    \"korean\",\n",
    "    \"telugu\",\"tamil\",\"kannada\",\"malayalam\",\"sinhala\"\n",
    "    # ,\"eng\",\"binaryv\",\"binaryh\",\"hex\",\n",
    "    # \"notosans\"\n",
    ")\n",
    "for x in scripts:\n",
    "    x115 = fontforge.open(f\"/home/viml/mg/font/sfd/5/115/{x}115.sfd\")\n",
    "    x115.selection.select((\"ranges\",None),0x901,0x96f)\n",
    "    x115.copy()\n",
    "    for x in range(1, 9):\n",
    "        xmultiplyx80 = x * 0x80\n",
    "        x115.selection.select((\"ranges\",None),0x901+xmultiplyx80,0x96f+xmultiplyx80)\n",
    "        x115.paste()\n",
    "    x115.save()\n",
    "    x115.close()\n"
   ]
  },
  {
   "cell_type": "code",
   "execution_count": null,
   "metadata": {},
   "outputs": [],
   "source": [
    "scripts = (\n",
    "    \"ing\",\n",
    "    \"hindi\",\n",
    "    \"bangla\",\"guzrati\",\"gurmukhi\",\"oriya\",\n",
    "    \"korean\",\n",
    "    \"telugu\",\"tamil\",\"kannada\",\"malayalam\",\"sinhala\"\n",
    "    # ,\"eng\",\"binaryv\",\"binaryh\",\"hex\",\n",
    "    # \"notosans\"\n",
    ")\n",
    "for x in scripts:\n",
    "    x115 = fontforge.open(f\"/home/viml/mg/font/sfd/5/115/{x}115.sfd\")\n",
    "    x115.generate(f\"/home/viml/mg/font/daunlod/fontdrum/{x}115.ttf\")\n",
    "    x115.generate(f\"/home/viml/mg/font/daunlod/fontdrum/{x}115.woff2\")\n",
    "    x115.close()"
   ]
  },
  {
   "cell_type": "code",
   "execution_count": null,
   "metadata": {},
   "outputs": [],
   "source": [
    "    # print(f\"prefs of l{x}05.sfd:\")\n",
    "    # print(tfont.getPrefs())\n",
    "    # ff_dict[x] = fontforge.font()\n",
    "    # ff_dict[x].fontname = tfont.fontname\n",
    "    # ff_dict[x].familyname = tfont.familyname\n",
    "    # ff_dict[x].uniqueid = tfont.uniqueid\n",
    "    # ff_dict[x].xuid = tfont.xuid    \n",
    "    # ff_dict[x].\n",
    "    # ff_dict[x].save(f\"l{x}05_ff.sfd\")"
   ]
  }
 ],
 "metadata": {
  "kernelspec": {
   "display_name": "Python 3",
   "language": "python",
   "name": "python3"
  },
  "language_info": {
   "codemirror_mode": {
    "name": "ipython",
    "version": 3
   },
   "file_extension": ".py",
   "mimetype": "text/x-python",
   "name": "python",
   "nbconvert_exporter": "python",
   "pygments_lexer": "ipython3",
   "version": "3.10.12"
  }
 },
 "nbformat": 4,
 "nbformat_minor": 2
}
