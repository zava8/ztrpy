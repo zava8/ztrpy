{
 "cells": [
  {
   "cell_type": "markdown",
   "metadata": {},
   "source": [
    "1. ɦ(small_0266) (U+0144 ń) (U+03B1 α)\n",
    "1. (U+03C4 τ) (U+0442 small_т) (U+0503 small_ԃ)\n",
    "1. ɧ(small_0267) (U+00A2 ¢) (U+0256 ɖ) (U+0257 ɗ) (ć)\n",
    "1. pip install p2j\n",
    "1. p2j myscript.py # This will create a myscript.ipynb file.\n",
    "1. [tab red bottom](https://stackoverflow.com/questions/59121072/is-there-a-way-of-making-the-active-tab-border-highlighted-on-top-instead-of-at)"
   ]
  },
  {
   "cell_type": "code",
   "execution_count": 1,
   "metadata": {},
   "outputs": [],
   "source": [
    "import re"
   ]
  },
  {
   "cell_type": "code",
   "execution_count": 4,
   "metadata": {},
   "outputs": [
    {
     "name": "stdout",
     "output_type": "stream",
     "text": [
      "t1 is aNgur Trbuz ThAli anAr aAm DuuDh DHi\n",
      "t2 is ańgur тrbuz тhαli anαr aαm ԃuuԃh ԃɦi\n"
     ]
    }
   ],
   "source": [
    "ADHNT2u = str.maketrans('ADHNT', 'αԃɦńт') # ć\n",
    "u2ADHNT = str.maketrans('αԃɦńт', 'ADHNT')\n",
    "u2c = str.maketrans('ć', 'c')\n",
    "c2u = str.maketrans('cC', 'ćć')\n",
    "qvj2kwz = str.maketrans('jqv','zkw')\n",
    "t1 = \"aNgur Trbuz ThAli anAr aAm DuuDh DHi\"\n",
    "t2=t1.translate(ADHNT2u)\n",
    "print(f\"t1 is {t1}\\nt2 is {t2}\")"
   ]
  },
  {
   "cell_type": "code",
   "execution_count": 12,
   "metadata": {},
   "outputs": [],
   "source": [
    "def kh_K(i):\n",
    "    result = re.sub(r\"([kzbs])h\", lambda m: m.group(1).upper(), i)\n",
    "    return result\n",
    "def K_kh(i):\n",
    "    result = re.sub(r\"([KZBS])\", lambda m: m.group(1).lower()+'h', i)\n",
    "    return result"
   ]
  },
  {
   "cell_type": "code",
   "execution_count": 13,
   "metadata": {},
   "outputs": [
    {
     "name": "stdout",
     "output_type": "stream",
     "text": [
      "KrgoS Zag Ser seb Balu ghr ghat phone\n",
      "khrgosh zhag sher seb bhalu Gr Gat February\n"
     ]
    }
   ],
   "source": [
    "text = \"khrgosh zhag sher seb bhalu ghr ghat phone\"\n",
    "text = kh_K(text)\n",
    "print(text)\n",
    "text = \"KrgoS Zag Ser seb Balu Gr Gat February\"\n",
    "text = K_kh(text)\n",
    "print(text)"
   ]
  },
  {
   "cell_type": "code",
   "execution_count": 3,
   "metadata": {},
   "outputs": [],
   "source": [
    "def phonetic_h(i):\n",
    "    i = re.sub('H','h', i)\n",
    "    i = re.sub(r'(\\s)h', r'\\1H', i, re.I)\n",
    "    i = re.sub(r'([^kgcjztdpbswKGCJZTDPBSW])h', r'\\1H', i, re.I)"
   ]
  },
  {
   "cell_type": "code",
   "execution_count": 4,
   "metadata": {},
   "outputs": [],
   "source": [
    "def phonetic_n(i):\n",
    "    i = re.sub(r'N', 'n', i)\n",
    "    i = re.sub(r'n([cgk])\\b', r'ṅ\\1', i, flags=re.I)\n",
    "    i = re.sub(r'\\bn', 'ñ', i, flags=re.I)\n",
    "    i = re.sub(r'([a-z])nk', r'\\1ṅk', i, flags=re.I)\n",
    "    i = re.sub(r'oung', 'ouṅg', i, flags=re.I)\n",
    "    i = re.sub(r'ginge', 'giñge', i, flags=re.I)\n",
    "    i = re.sub(r'([ht])inge', r'\\1iñge', i, flags=re.I)\n",
    "    i = re.sub(r'([fyc])ring', r'\\1riñg', i, flags=re.I)\n",
    "    i = re.sub(r'engin', 'eñgin', i, flags=re.I)\n",
    "    i = re.sub(r'ngth', 'ñgth', i, flags=re.I)\n",
    "    i = re.sub(r'ange([^dr])', r'añge\\1', i, flags=re.I)\n",
    "    i = re.sub(r'\\bt([ai])ng([ei])', r't\\1ñg\\2', i, flags=re.I)\n",
    "    i = re.sub(r'\\bangi', 'añgi', i, flags=re.I)\n",
    "    i = re.sub(r'inge', 'iñge', i, flags=re.I)\n",
    "    i = re.sub(r'ing', 'iṅg', i, flags=re.I)\n",
    "    i = re.sub(r'nge\\b', 'ñge', i, flags=re.I)\n",
    "    i = re.sub(r'ngel', 'ñgel', i, flags=re.I)\n",
    "    i = re.sub(r'([dr])ang([ei])', r'\\1añg\\2', i, flags=re.I)\n",
    "    i = re.sub(r'([lv])eng', r'\\1eñg', i, flags=re.I)\n",
    "    i = re.sub(r'chang([ei])', r'chañg\\1', i, flags=re.I)\n",
    "    i = re.sub(r'sseng', 'sseñg', i, flags=re.I)\n",
    "    i = re.sub(r'nger', 'ṅger', i, flags=re.I)\n",
    "    i = re.sub(r'([a-z])ng', r'\\1ṅg', i, flags=re.I)\n",
    "    i = re.sub(r'sync', 'syṅc', i, flags=re.I)\n",
    "    i = re.sub(r'anchor', 'aṅchor', i, flags=re.I)\n",
    "    i = re.sub(r'linco', 'liṅco', i, flags=re.I)\n",
    "    i = re.sub(r'sincl', 'siṅcl', i, flags=re.I)\n",
    "    i = re.sub(r'\\buncle(s?)\\b', r'uṅcle\\1', i, flags=re.I)\n",
    "    i = re.sub(r'menco', 'meṅco', i, flags=re.I)\n",
    "    i = re.sub(r'([iu])nct', r'\\1ṅct', i, flags=re.I)\n",
    "    i = re.sub(r'nc([hyei])', r'ñc\\1', i, flags=re.I)\n",
    "    i = re.sub(r'inc([^hueioay])', r'iṅc\\1', i, flags=re.I)\n",
    "    i = re.sub(r'inc([aeiou])', r'iñc\\1', i, flags=re.I)\n",
    "    i = re.sub(r'([a-z])unc([^hyei])', r'\\1uṅc\\2', i, flags=re.I)\n",
    "    i = re.sub(r'enc([^eiyh])', r'eñc\\1', i, flags=re.I)\n",
    "    i = re.sub(r'([ao])nc([^hyei])', r'\\1ṅc\\2', i, flags=re.I)\n",
    "    i = re.sub(r'ṅ', 'N', i)\n",
    "    i = re.sub(r'ñ', 'n', i)"
   ]
  },
  {
   "cell_type": "code",
   "execution_count": 5,
   "metadata": {},
   "outputs": [],
   "source": [
    "def phonetic_a(i):\n",
    "    i = re.sub(r'A', 'a', i)\n",
    "    i = re.sub(r'aft', 'αft', i, flags=re.I)\n",
    "    i = re.sub(r'aw([kf\\s])', r'αw\\1', i, flags=re.I)\n",
    "    i = re.sub(r'\\bar([cekmst])\\b', r'αr\\1', i, flags=re.I)\n",
    "    i = re.sub(r'guar', 'guαr', i, flags=re.I)\n",
    "    i = re.sub(r'ijab', 'ijαb', i, flags=re.I)\n",
    "    i = re.sub(r'ebab', 'ebαb', i, flags=re.I)\n",
    "    i = re.sub(r'ihad', 'iHαԃ', i, flags=re.I)\n",
    "    i = re.sub(r'ia([ck])', r'iα\\1', i, flags=re.I)\n",
    "    i = re.sub(r'\\ba', 'à', i, flags=re.I)\n",
    "    i = re.sub(r'ai\\b', 'αi', i)\n",
    "    i = re.sub(r'uar([bce-su-z])', r'uàr\\1', i, flags=re.I)\n",
    "    i = re.sub(r'([a-z])a\\b', r'\\1α', i, flags=re.I)\n",
    "    i = re.sub(r'a([w])\\b', r'α\\1', i, flags=re.I)\n",
    "    i = re.sub(r'\\ba([ntsmd])\\b', r'à\\1', i, flags=re.I)\n",
    "    i = re.sub(r'ar([aiey])', r'àr\\1', i, flags=re.I)\n",
    "    i = re.sub(r'([^uheio\\s])arre([^lasn])', r'\\1αrre\\2', i, flags=re.I)\n",
    "    i = re.sub(r'([eio\\s])ar', r'\\1àr', i, flags=re.I)\n",
    "    i = re.sub(r'i([lgn])ar([^y])', r'i\\1αr\\2', i, flags=re.I)\n",
    "    i = re.sub(r'([^beiuohlgn])ar([^y])', r'\\1αr\\2', i, flags=re.I)\n",
    "    i = re.sub(r'bar([^oiuer])', r'bαr\\1', i, flags=re.I)\n",
    "    i = re.sub(r'era([\\b\\s])', r'erα\\1', i, flags=re.I)\n",
    "    i = re.sub(r'([bcdfह\\b\\s])all([^yo])', r'\\1αll\\2', i, flags=re.I)\n",
    "    i = re.sub(r'ava', 'αvα', i, flags=re.I)\n",
    "    i = re.sub(r'([^\\b\\soe])ard', r'\\1αrd', i, flags=re.I)\n",
    "    i = re.sub(r'([ag])raph', r'\\1rαph', i, flags=re.I)\n",
    "    i = re.sub(r'las([skmt])', r'lαs\\1', i, flags=re.I)"
   ]
  },
  {
   "cell_type": "code",
   "execution_count": null,
   "metadata": {},
   "outputs": [],
   "source": []
  }
 ],
 "metadata": {
  "kernelspec": {
   "display_name": "Python 3",
   "language": "python",
   "name": "python3"
  },
  "language_info": {
   "codemirror_mode": {
    "name": "ipython",
    "version": 3
   },
   "file_extension": ".py",
   "mimetype": "text/x-python",
   "name": "python",
   "nbconvert_exporter": "python",
   "pygments_lexer": "ipython3",
   "version": "3.10.12"
  }
 },
 "nbformat": 4,
 "nbformat_minor": 2
}
